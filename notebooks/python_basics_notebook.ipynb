{
 "cells": [
  {
   "cell_type": "markdown",
   "metadata": {},
   "source": [
    "# Python Basics - Student Practice Notebook\n",
    "## CRABS Summer School 2025\n",
    "\n",
    "Welcome to your Python practice notebook! This notebook contains exercises that match the presentation slides.\n",
    "\n",
    "**Instructions:**\n",
    "- Run each code cell to see the output\n",
    "- Complete the exercises marked with \"TODO\"\n",
    "- Experiment and modify the code!\n",
    "- Ask questions if you get stuck"
   ]
  },
  {
   "cell_type": "markdown",
   "metadata": {},
   "source": [
    "## 1. Setup and First Steps"
   ]
  },
  {
   "cell_type": "code",
   "execution_count": 1,
   "metadata": {},
   "outputs": [
    {
     "name": "stdout",
     "output_type": "stream",
     "text": [
      "Welcome to Python Basics!\n",
      "This is my practice notebook: python_basics.ipynb\n",
      "Python version: 3.13.6 (v3.13.6:4e665351082, Aug  6 2025, 11:22:35) [Clang 16.0.0 (clang-1600.0.26.6)]\n"
     ]
    }
   ],
   "source": [
    "# First cell - test setup\n",
    "print(\"Welcome to Python Basics!\")\n",
    "print(\"This is my practice notebook: python_basics.ipynb\")\n",
    "\n",
    "# Check Python version\n",
    "import sys\n",
    "print(f\"Python version: {sys.version}\")"
   ]
  },
  {
   "cell_type": "code",
   "execution_count": 2,
   "metadata": {},
   "outputs": [
    {
     "name": "stdout",
     "output_type": "stream",
     "text": [
      "Hello world, let's get started!\n",
      "I need to finish my poster for HIVDR workshop before 08/18\n"
     ]
    }
   ],
   "source": [
    "# Your first Python program\n",
    "print(\"Hello world, let's get started!\")\n",
    "\n",
    "# TODO: Create your own greeting message below\n",
    "print(\"I need to finish my poster for HIVDR workshop before 08/18\")"
   ]
  },
  {
   "cell_type": "markdown",
   "metadata": {},
   "source": [
    "## 2. Python Data Types Exploration"
   ]
  },
  {
   "cell_type": "code",
   "execution_count": 3,
   "metadata": {},
   "outputs": [
    {
     "name": "stdout",
     "output_type": "stream",
     "text": [
      "age: 25, type: <class 'int'>\n",
      "price: 19.99, type: <class 'float'>\n",
      "name: Alice, type: <class 'str'>\n",
      "is_student: True, type: <class 'bool'>\n",
      "scores: [85, 90, 78], type: <class 'list'>\n",
      "coords: (10, 20), type: <class 'tuple'>\n",
      "student: {'name': 'Bob', 'age': 20}, type: <class 'dict'>\n"
     ]
    }
   ],
   "source": [
    "# Built-in Data Types\n",
    "age = 25              # int\n",
    "price = 19.99         # float\n",
    "name = \"Alice\"        # str\n",
    "is_student = True     # bool\n",
    "scores = [85, 90, 78] # list\n",
    "coords = (10, 20)     # tuple\n",
    "student = {\"name\": \"Bob\", \"age\": 20}  # dict\n",
    "\n",
    "# Check their types\n",
    "print(f\"age: {age}, type: {type(age)}\")\n",
    "print(f\"price: {price}, type: {type(price)}\")\n",
    "print(f\"name: {name}, type: {type(name)}\")\n",
    "print(f\"is_student: {is_student}, type: {type(is_student)}\")\n",
    "print(f\"scores: {scores}, type: {type(scores)}\")\n",
    "print(f\"coords: {coords}, type: {type(coords)}\")\n",
    "print(f\"student: {student}, type: {type(student)}\")"
   ]
  },
  {
   "cell_type": "code",
   "execution_count": 8,
   "metadata": {},
   "outputs": [
    {
     "name": "stdout",
     "output_type": "stream",
     "text": [
      "my_integer: 6798, type: <class 'int'>\n",
      "my_float: 5.789, type: <class 'float'>\n",
      "my_string: gtddh, type: <class 'str'>\n",
      "is_my_string: False, type: <class 'bool'>\n",
      "my_list: [54, 67, 86, 23], type: <class 'list'>\n",
      "my_tuple: (54, 60), type: <class 'tuple'>\n",
      "my_dict: {'name': 'Slice', 'type': 'food'}, type: <class 'dict'>\n"
     ]
    }
   ],
   "source": [
    "# TODO: Create your own variables\n",
    "# Create variables of each type and print their types\n",
    "\n",
    "my_integer = 6798 # TODO: Add an integer\n",
    "my_float = 5.789 # TODO: Add a float\n",
    "my_string = \"gtddh\" # TODO: Add a string\n",
    "is_my_string = False # TODO: Add a boolean\n",
    "my_list = [54, 67, 86, 23] # TODO: Add a list with 3 items\n",
    "my_tuple = (54, 60) # TODO: Add a tuple with 2 items\n",
    "my_dict = {\"name\": \"Slice\", \"type\": \"food\"} # TODO: Add a dictionary with 2 key-value pairs\n",
    "\n",
    "# TODO: Print each variable and its type\n",
    "print(f\"my_integer: {my_integer}, type: {type(my_integer)}\")\n",
    "print(f\"my_float: {my_float}, type: {type(my_float)}\")\n",
    "print(f\"my_string: {my_string}, type: {type(my_string)}\")\n",
    "print(f\"is_my_string: {is_my_string}, type: {type(is_my_string)}\")\n",
    "print(f\"my_list: {my_list}, type: {type(my_list)}\")\n",
    "print(f\"my_tuple: {my_tuple}, type: {type(my_tuple)}\")\n",
    "print(f\"my_dict: {my_dict}, type: {type(my_dict)}\")"
   ]
  },
  {
   "cell_type": "markdown",
   "metadata": {},
   "source": [
    "## 3. String Object Methods Practice"
   ]
  },
  {
   "cell_type": "code",
   "execution_count": 9,
   "metadata": {},
   "outputs": [
    {
     "name": "stdout",
     "output_type": "stream",
     "text": [
      "Original: Hello World Python\n",
      "Upper: HELLO WORLD PYTHON\n",
      "Lower: hello world python\n",
      "Title: Hello World Python\n",
      "\n",
      "Search methods:\n",
      "Find 'World': 6\n",
      "Count 'o': 3\n",
      "Starts with 'H': True\n",
      "Ends with 'n': True\n",
      "\n",
      "Split and join:\n",
      "Split into words: ['Hello', 'World', 'Python']\n",
      "Joined with '-': Hello-World-Python\n"
     ]
    }
   ],
   "source": [
    "# String methods demonstration\n",
    "text = \"Hello World Python\"\n",
    "\n",
    "# Case methods\n",
    "print(\"Original:\", text)\n",
    "print(\"Upper:\", text.upper())\n",
    "print(\"Lower:\", text.lower())\n",
    "print(\"Title:\", text.title())\n",
    "\n",
    "# Search and check\n",
    "print(\"\\nSearch methods:\")\n",
    "print(\"Find 'World':\", text.find(\"World\"))\n",
    "print(\"Count 'o':\", text.count(\"o\"))\n",
    "print(\"Starts with 'H':\", text.startswith(\"H\"))\n",
    "print(\"Ends with 'n':\", text.endswith(\"n\"))\n",
    "\n",
    "# Split and join\n",
    "print(\"\\nSplit and join:\")\n",
    "words = text.split()\n",
    "print(\"Split into words:\", words)\n",
    "new_text = \"-\".join(words)\n",
    "print(\"Joined with '-':\", new_text)"
   ]
  },
  {
   "cell_type": "code",
   "execution_count": 16,
   "metadata": {},
   "outputs": [
    {
     "name": "stdout",
     "output_type": "stream",
     "text": [
      "Original: Python programming is amazing and fun\n",
      "Upper: PYTHON PROGRAMMING IS AMAZING AND FUN\n",
      "Count 'a': 4\n",
      "Starts with 'Python': True\n",
      "Split into words: ['Python', 'programming', 'is', 'amazing', 'and', 'fun']\n",
      "Replace: Python programming is awesome and fun\n"
     ]
    }
   ],
   "source": [
    "# TODO: String exercises\n",
    "sentence = \"Python programming is amazing and fun\"\n",
    "print(\"Original:\", sentence)\n",
    "# TODO: Convert sentence to uppercase\n",
    "\n",
    "print(\"Upper:\", sentence.upper())\n",
    "\n",
    "# TODO: Count how many times 'a' appears in sentence\n",
    "print(\"Count 'a':\", sentence.count(\"a\"))\n",
    "# TODO: Check if sentence starts with \"Python\"\n",
    "print(\"Starts with 'Python':\", sentence.startswith(\"Python\"))\n",
    "# TODO: Split sentence into words and print each word\n",
    "words = sentence.split()\n",
    "print(\"Split into words:\", words)\n",
    "\n",
    "# TODO: Replace \"amazing\" with \"awesome\"\n",
    "new_text = sentence.replace(\"amazing\", \"awesome\")\n",
    "print(\"Replace:\", new_text)"
   ]
  },
  {
   "cell_type": "markdown",
   "metadata": {},
   "source": [
    "## 4. List Object Methods Practice"
   ]
  },
  {
   "cell_type": "code",
   "execution_count": 15,
   "metadata": {},
   "outputs": [
    {
     "name": "stdout",
     "output_type": "stream",
     "text": [
      "Original list: ['apple', 'banana', 'cherry']\n",
      "After append: ['apple', 'banana', 'cherry', 'orange']\n",
      "After insert: ['apple', 'grape', 'banana', 'cherry', 'orange']\n",
      "After extend: ['apple', 'grape', 'banana', 'cherry', 'orange', 'kiwi', 'mango']\n",
      "After remove: ['apple', 'grape', 'cherry', 'orange', 'kiwi', 'mango']\n",
      "Popped: mango, List now: ['apple', 'grape', 'cherry', 'orange', 'kiwi']\n",
      "After reverse: ['kiwi', 'orange', 'cherry', 'grape', 'apple']\n",
      "After sort: ['apple', 'cherry', 'grape', 'kiwi', 'orange']\n"
     ]
    }
   ],
   "source": [
    "# List methods demonstration\n",
    "fruits = [\"apple\", \"banana\", \"cherry\"]\n",
    "print(\"Original list:\", fruits)\n",
    "\n",
    "# Adding elements\n",
    "fruits.append(\"orange\")\n",
    "print(\"After append:\", fruits)\n",
    "\n",
    "fruits.insert(1, \"grape\")\n",
    "print(\"After insert:\", fruits)\n",
    "\n",
    "fruits.extend([\"kiwi\", \"mango\"])\n",
    "print(\"After extend:\", fruits)\n",
    "\n",
    "# Removing elements\n",
    "fruits.remove(\"banana\")\n",
    "print(\"After remove:\", fruits)\n",
    "\n",
    "popped = fruits.pop()\n",
    "print(f\"Popped: {popped}, List now: {fruits}\")\n",
    "\n",
    "# Other methods\n",
    "fruits.reverse()\n",
    "print(\"After reverse:\", fruits)\n",
    "\n",
    "fruits.sort()\n",
    "print(\"After sort:\", fruits)"
   ]
  },
  {
   "cell_type": "code",
   "execution_count": null,
   "metadata": {},
   "outputs": [],
   "source": [
    "# TODO: List exercises\n",
    "numbers = [3, 1, 4, 1, 5, 9, 2, 6]\n",
    "\n",
    "# TODO: Add the number 8 to the end of the list\n",
    "\n",
    "# TODO: Insert the number 0 at the beginning of the list\n",
    "\n",
    "# TODO: Remove the first occurrence of number 1\n",
    "\n",
    "# TODO: Sort the list in ascending order\n",
    "\n",
    "# TODO: Count how many times 1 appears in the list\n",
    "\n",
    "# TODO: Find the index of number 5\n",
    "\n",
    "print(\"Final list:\", numbers)"
   ]
  },
  {
   "cell_type": "markdown",
   "metadata": {},
   "source": [
    "## 5. Dictionary Object Methods Practice"
   ]
  },
  {
   "cell_type": "code",
   "execution_count": null,
   "metadata": {},
   "outputs": [],
   "source": [
    "# Dictionary methods demonstration\n",
    "student = {\"name\": \"Alice\", \"age\": 20, \"grade\": \"A\"}\n",
    "print(\"Original dict:\", student)\n",
    "\n",
    "# Accessing data\n",
    "print(\"\\nKeys:\", list(student.keys()))\n",
    "print(\"Values:\", list(student.values()))\n",
    "print(\"Items:\", list(student.items()))\n",
    "\n",
    "# Safe access\n",
    "print(\"\\nSafe access:\")\n",
    "print(\"Name:\", student.get(\"name\"))\n",
    "print(\"Phone:\", student.get(\"phone\"))  # None - no error\n",
    "print(\"Phone with default:\", student.get(\"phone\", \"N/A\"))\n",
    "\n",
    "# Updating\n",
    "student.update({\"age\": 21, \"city\": \"Berlin\"})\n",
    "print(\"After update:\", student)\n",
    "\n",
    "removed_grade = student.pop(\"grade\")\n",
    "print(f\"Removed grade: {removed_grade}\")\n",
    "print(\"After pop:\", student)"
   ]
  },
  {
   "cell_type": "code",
   "execution_count": null,
   "metadata": {},
   "outputs": [],
   "source": [
    "# TODO: Dictionary exercises\n",
    "person = {\"first_name\": \"John\", \"last_name\": \"Doe\", \"age\": 30}\n",
    "\n",
    "# TODO: Add a new key \"email\" with value \"john.doe@email.com\"\n",
    "\n",
    "# TODO: Update the age to 31\n",
    "\n",
    "# TODO: Get the value of \"phone\" with default \"Not provided\"\n",
    "\n",
    "# TODO: Print all keys in the dictionary\n",
    "\n",
    "# TODO: Print all values in the dictionary\n",
    "\n",
    "# TODO: Check if \"middle_name\" exists in the dictionary\n",
    "\n",
    "print(\"Final person dict:\", person)"
   ]
  },
  {
   "cell_type": "markdown",
   "metadata": {},
   "source": [
    "## 6. Number and Math Methods Practice"
   ]
  },
  {
   "cell_type": "code",
   "execution_count": null,
   "metadata": {},
   "outputs": [],
   "source": [
    "# Number methods demonstration\n",
    "import math\n",
    "\n",
    "# Integer methods\n",
    "number = -42\n",
    "print(f\"Number: {number}\")\n",
    "print(f\"Absolute value: {abs(number)}\")\n",
    "print(f\"Bit length: {number.bit_length()}\")\n",
    "\n",
    "# Float methods\n",
    "price = 19.99567\n",
    "print(f\"\\nPrice: {price}\")\n",
    "print(f\"Rounded to 2 decimals: {round(price, 2)}\")\n",
    "print(f\"Is integer: {price.is_integer()}\")\n",
    "\n",
    "# Math operations\n",
    "print(f\"\\nMath operations:\")\n",
    "print(f\"Square root of 16: {math.sqrt(16)}\")\n",
    "print(f\"Ceiling of 4.3: {math.ceil(4.3)}\")\n",
    "print(f\"Floor of 4.7: {math.floor(4.7)}\")\n",
    "print(f\"2 to the power of 3: {math.pow(2, 3)}\")"
   ]
  },
  {
   "cell_type": "code",
   "execution_count": null,
   "metadata": {},
   "outputs": [],
   "source": [
    "# TODO: Number exercises\n",
    "import math\n",
    "\n",
    "temperature = -15.7\n",
    "distance = 123.456789\n",
    "\n",
    "# TODO: Get the absolute value of temperature\n",
    "\n",
    "# TODO: Round distance to 2 decimal places\n",
    "\n",
    "# TODO: Calculate the square root of 25\n",
    "\n",
    "# TODO: Calculate 5 to the power of 3\n",
    "\n",
    "# TODO: Get the ceiling of 7.1\n",
    "\n",
    "# TODO: Get the floor of 7.9\n"
   ]
  },
  {
   "cell_type": "markdown",
   "metadata": {},
   "source": [
    "## 7. Mutable vs Immutable Practice"
   ]
  },
  {
   "cell_type": "code",
   "execution_count": null,
   "metadata": {},
   "outputs": [],
   "source": [
    "# Immutable types demonstration\n",
    "print(\"IMMUTABLE TYPES:\")\n",
    "\n",
    "# Strings\n",
    "original_string = \"Hello\"\n",
    "print(f\"Original string id: {id(original_string)}\")\n",
    "new_string = original_string + \" World\"\n",
    "print(f\"New string: '{new_string}', id: {id(new_string)}\")\n",
    "print(f\"Original unchanged: '{original_string}'\\n\")\n",
    "\n",
    "# Tuples\n",
    "original_tuple = (1, 2, 3)\n",
    "print(f\"Original tuple: {original_tuple}, id: {id(original_tuple)}\")\n",
    "# original_tuple[0] = 5  # This would cause an error!\n",
    "new_tuple = original_tuple + (4, 5)\n",
    "print(f\"New tuple: {new_tuple}, id: {id(new_tuple)}\")\n",
    "print(f\"Original unchanged: {original_tuple}\")"
   ]
  },
  {
   "cell_type": "code",
   "execution_count": null,
   "metadata": {},
   "outputs": [],
   "source": [
    "# Mutable types demonstration\n",
    "print(\"MUTABLE TYPES:\")\n",
    "\n",
    "# Lists\n",
    "original_list = [1, 2, 3]\n",
    "print(f\"Original list: {original_list}, id: {id(original_list)}\")\n",
    "original_list.append(4)\n",
    "print(f\"After append: {original_list}, id: {id(original_list)}\")\n",
    "print(\"Same object, modified!\\n\")\n",
    "\n",
    "# Dictionaries\n",
    "original_dict = {\"a\": 1, \"b\": 2}\n",
    "print(f\"Original dict: {original_dict}, id: {id(original_dict)}\")\n",
    "original_dict[\"c\"] = 3\n",
    "print(f\"After adding key: {original_dict}, id: {id(original_dict)}\")\n",
    "print(\"Same object, modified!\")"
   ]
  },
  {
   "cell_type": "code",
   "execution_count": null,
   "metadata": {},
   "outputs": [],
   "source": [
    "# TODO: Mutable vs Immutable exercises\n",
    "\n",
    "# Create a list with numbers 1, 2, 3\n",
    "my_list = [1, 2, 3]\n",
    "list_id_before = id(my_list)\n",
    "\n",
    "# TODO: Modify the list by adding number 4\n",
    "\n",
    "list_id_after = id(my_list)\n",
    "\n",
    "# TODO: Check if the id is the same (should be True for mutable)\n",
    "print(f\"List ID same after modification: {list_id_before == list_id_after}\")\n",
    "\n",
    "# Create a string\n",
    "my_string = \"Hello\"\n",
    "string_id_before = id(my_string)\n",
    "\n",
    "# TODO: \"Modify\" the string by adding \" World\"\n",
    "my_string = # TODO: complete this\n",
    "\n",
    "string_id_after = id(my_string)\n",
    "\n",
    "# TODO: Check if the id is the same (should be False for immutable)\n",
    "print(f\"String ID same after modification: {string_id_before == string_id_after}\")"
   ]
  },
  {
   "cell_type": "markdown",
   "metadata": {},
   "source": [
    "## 8. Challenge Exercises"
   ]
  },
  {
   "cell_type": "code",
   "execution_count": null,
   "metadata": {},
   "outputs": [],
   "source": [
    "# Challenge 1: Text Analysis\n",
    "# TODO: Analyze this text using string methods\n",
    "text = \"Python is a powerful programming language. Python is easy to learn.\"\n",
    "\n",
    "# TODO: Count total words\n",
    "\n",
    "# TODO: Count how many times \"Python\" appears\n",
    "\n",
    "# TODO: Convert to lowercase and split into unique words\n",
    "\n",
    "# TODO: Find the longest word\n"
   ]
  },
  {
   "cell_type": "code",
   "execution_count": null,
   "metadata": {},
   "outputs": [],
   "source": [
    "# Challenge 2: Student Grade Management\n",
    "# TODO: Create a system to manage student grades\n",
    "\n",
    "students = {\n",
    "    \"Alice\": [85, 92, 78],\n",
    "    \"Bob\": [90, 87, 95],\n",
    "    \"Charlie\": [78, 85, 88]\n",
    "}\n",
    "\n",
    "# TODO: Calculate average grade for each student\n",
    "\n",
    "# TODO: Find the student with the highest average\n",
    "\n",
    "# TODO: Add a new student \"Diana\" with grades [95, 89, 92]\n",
    "\n",
    "# TODO: Add a new grade (85) to Alice's grades\n"
   ]
  },
  {
   "cell_type": "code",
   "execution_count": null,
   "metadata": {},
   "outputs": [],
   "source": [
    "# Challenge 3: Data Type Explorer\n",
    "# TODO: Create a function that analyzes any variable\n",
    "\n",
    "def analyze_variable(var):\n",
    "    \"\"\"Analyze a variable and print information about it\"\"\"\n",
    "    # TODO: Print the variable's value\n",
    "    # TODO: Print the variable's type\n",
    "    # TODO: Print the variable's length (if applicable)\n",
    "    # TODO: Check if it's mutable or immutable\n",
    "    # TODO: Show some methods available for this type\n",
    "    pass\n",
    "\n",
    "# Test with different variables\n",
    "test_string = \"Hello World\"\n",
    "test_list = [1, 2, 3, 4, 5]\n",
    "test_dict = {\"name\": \"Alice\", \"age\": 25}\n",
    "\n",
    "# TODO: Call analyze_variable for each test variable\n"
   ]
  },
  {
   "cell_type": "markdown",
   "metadata": {},
   "source": [
    "## 9. Reflection and Next Steps\n",
    "\n",
    "Congratulations! You've practiced:\n",
    "- ✅ Python data types\n",
    "- ✅ String object methods\n",
    "- ✅ List object methods\n",
    "- ✅ Dictionary object methods\n",
    "- ✅ Number methods\n",
    "- ✅ Mutable vs Immutable concepts\n",
    "\n",
    "### What's Next?\n",
    "- Functions and modules\n",
    "- File handling\n",
    "- Object-oriented programming\n",
    "- Libraries (NumPy, Pandas, Matplotlib)\n",
    "\n",
    "### Keep Practicing!\n",
    "Try modifying the exercises above, create your own examples, and don't be afraid to experiment!"
   ]
  },
  {
   "cell_type": "code",
   "execution_count": null,
   "metadata": {},
   "outputs": [],
   "source": [
    "# Celebration code!\n",
    "print(\"🎉\" * 20)\n",
    "print(\"🐍 CONGRATULATIONS! 🐍\")\n",
    "print(\"You've completed Python Basics!\")\n",
    "print(\"🎉\" * 20)\n",
    "\n",
    "# TODO: Write your own celebration message!"
   ]
  }
 ],
 "metadata": {
  "kernelspec": {
   "display_name": "Python 3",
   "language": "python",
   "name": "python3"
  },
  "language_info": {
   "codemirror_mode": {
    "name": "ipython",
    "version": 3
   },
   "file_extension": ".py",
   "mimetype": "text/x-python",
   "name": "python",
   "nbconvert_exporter": "python",
   "pygments_lexer": "ipython3",
   "version": "3.13.6"
  }
 },
 "nbformat": 4,
 "nbformat_minor": 4
}
