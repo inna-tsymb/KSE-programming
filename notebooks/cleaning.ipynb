{
 "cells": [
  {
   "cell_type": "code",
   "execution_count": 2,
   "id": "97f427ec",
   "metadata": {},
   "outputs": [
    {
     "name": "stdout",
     "output_type": "stream",
     "text": [
      "You cannot drink alcohol\n",
      "Teenager\n"
     ]
    }
   ],
   "source": [
    "age = 13\n",
    "\n",
    "# Simple if\n",
    "if age >= 18:\n",
    "    print(\"You can vote!\")\n",
    "\n",
    "# If-else\n",
    "if age >= 21:\n",
    "    print(\"You can drink alcohol\")\n",
    "else:\n",
    "    print(\"You cannot drink alcohol\")\n",
    "\n",
    "# If-elif-else\n",
    "if age < 13:\n",
    "    print(\"Child\")\n",
    "elif age < 20:\n",
    "    print(\"Teenager\")\n",
    "else:\n",
    "    print(\"Adult\")"
   ]
  },
  {
   "cell_type": "code",
   "execution_count": null,
   "id": "af697e09",
   "metadata": {},
   "outputs": [
    {
     "name": "stdout",
     "output_type": "stream",
     "text": [
      "apple\n",
      "banana\n",
      "orange\n",
      "Count: 0\n",
      "Count: 1\n",
      "Count: 2\n",
      "Count: 3\n",
      "Count: 4\n",
      "2\n",
      "3\n",
      "4\n",
      "5\n",
      "6\n",
      "7\n",
      "0\n",
      "2\n",
      "4\n",
      "6\n",
      "8\n",
      "0: apple\n",
      "1: banana\n",
      "2: orange\n"
     ]
    }
   ],
   "source": [
    "# Loop through a list\n",
    "fruits = [\"apple\", \"banana\", \"orange\"]\n",
    "for fruit in fruits:\n",
    "    print(f\"{fruit}\")\n",
    "\n",
    "# Loop through a range\n",
    "for i in range(5):  # 0, 1, 2, 3, 4\n",
    "    print(f\"Count: {i}\")\n",
    "\n",
    "for i in range(2, 8):  # 2, 3, 4, 5, 6, 7\n",
    "    print(i)\n",
    "\n",
    "for i in range(0, 10, 2):  # 0, 2, 4, 6, 8\n",
    "    print(i)\n",
    "\n",
    "# Loop with index\n",
    "for index, fruit in enumerate(fruits):\n",
    "    print(f\"{index}: {fruit}\")"
   ]
  }
 ],
 "metadata": {
  "kernelspec": {
   "display_name": "Python 3",
   "language": "python",
   "name": "python3"
  },
  "language_info": {
   "codemirror_mode": {
    "name": "ipython",
    "version": 3
   },
   "file_extension": ".py",
   "mimetype": "text/x-python",
   "name": "python",
   "nbconvert_exporter": "python",
   "pygments_lexer": "ipython3",
   "version": "3.13.6"
  }
 },
 "nbformat": 4,
 "nbformat_minor": 5
}
