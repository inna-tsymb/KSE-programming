{
 "cells": [
  {
   "cell_type": "code",
   "execution_count": 1,
   "id": "f4e07f5a",
   "metadata": {},
   "outputs": [
    {
     "name": "stdout",
     "output_type": "stream",
     "text": [
      "Age requirement met\n",
      "You can apply for a license!\n"
     ]
    }
   ],
   "source": [
    "# Check eligibility for driving license\n",
    "age = 20\n",
    "has_permit = True\n",
    "\n",
    "if age >= 18:\n",
    "    print(\"Age requirement met\")\n",
    "    \n",
    "    if has_permit:\n",
    "        print(\"You can apply for a license!\")\n",
    "    else:\n",
    "        print(\"You need a learner's permit first\")\n",
    "else:\n",
    "    print(\"You must be at least 18 years old\")"
   ]
  },
  {
   "cell_type": "code",
   "execution_count": 2,
   "id": "8d1da5eb",
   "metadata": {},
   "outputs": [
    {
     "name": "stdout",
     "output_type": "stream",
     "text": [
      "Welcome to the club!\n",
      "It's the weekend!\n",
      "Great day for a walk!\n"
     ]
    }
   ],
   "source": [
    "# Using 'and' - both must be True\n",
    "age = 20\n",
    "has_id = True\n",
    "\n",
    "if age >= 18 and has_id:\n",
    "    print(\"Welcome to the club!\")\n",
    "\n",
    "# Using 'or' - at least one must be True\n",
    "day = \"Saturday\"\n",
    "\n",
    "if day == \"Saturday\" or day == \"Sunday\":\n",
    "    print(\"It's the weekend!\")\n",
    "\n",
    "# Using 'not' - reverses the condition\n",
    "is_raining = False\n",
    "\n",
    "if not is_raining:\n",
    "    print(\"Great day for a walk!\")"
   ]
  },
  {
   "cell_type": "code",
   "execution_count": null,
   "id": "69162521",
   "metadata": {},
   "outputs": [],
   "source": [
    "while True:\n",
    "    try:\n",
    "        # Ask for input\n",
    "        num = int(input(\"Enter a number between 1 and 100: \"))\n",
    "        \n",
    "        # Check range\n",
    "        if 1 <= num <= 100:\n",
    "            # Classify\n",
    "            if num <= 33:\n",
    "                print(\"That’s a small number.\")\n",
    "            elif num <= 66:\n",
    "                print(\"That’s a medium number.\")\n",
    "            else:\n",
    "                print(\"That’s a large number.\")\n",
    "            break  # Exit loop after valid input\n",
    "        else:\n",
    "            print(\"Number out of range! Try again.\")\n",
    "    except ValueError:\n",
    "        print(\"Invalid input! Please enter a number.\")"
   ]
  }
 ],
 "metadata": {
  "kernelspec": {
   "display_name": "base",
   "language": "python",
   "name": "python3"
  },
  "language_info": {
   "codemirror_mode": {
    "name": "ipython",
    "version": 3
   },
   "file_extension": ".py",
   "mimetype": "text/x-python",
   "name": "python",
   "nbconvert_exporter": "python",
   "pygments_lexer": "ipython3",
   "version": "3.13.5"
  }
 },
 "nbformat": 4,
 "nbformat_minor": 5
}
